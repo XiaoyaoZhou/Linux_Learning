{
 "cells": [
  {
   "cell_type": "markdown",
   "metadata": {},
   "source": [
    "# Linux 入门\n",
    "\n",
    "## 初始 Linux"
   ]
  },
  {
   "cell_type": "markdown",
   "metadata": {},
   "source": [
    "### 1、Linux 用户和用户组"
   ]
  },
  {
   "cell_type": "markdown",
   "metadata": {},
   "source": [
    "**Linux 用户与用户组**\n",
    "\n",
    "* root用户：UID=0；\n",
    "* 系统用户：UID=1～999；虚拟用户、伪用户、假用户，是系统自身拥有的用户，比如bin、daemon、adm、ftp、mail等，不具有登录Linux系统的能力，但却是系统运行不可缺少的用户；\n",
    "* 普通用户：UID为1000~60000，可以登录系统，操作自己目录的内容。\n",
    "<br>\n",
    "<br>\n",
    "* \"/etc/password\": <br>\n",
    "Linux系统识别用户的重要文件，所有的用户都记录在该文件中。<br>\n",
    "一行表示一个用户的账户信息，有7个段位，依次为用户名、密码、用户标识号UID、用户所属的主要群组标识号GID、用户名全称、用户主目录、用户使用的Shell类型。\n",
    "* \"/etc/shadow\": <br>\n",
    "是/etc/passwd的影子文件，与/etc/passwd是对应互补的。<br>\n",
    "用户及被加密的密码以及其他/etc/passwd不能包括的信息，比如用户账户的有效期限等。"
   ]
  },
  {
   "cell_type": "code",
   "execution_count": null,
   "metadata": {},
   "outputs": [],
   "source": []
  }
 ],
 "metadata": {
  "kernelspec": {
   "display_name": "Python 3",
   "language": "python",
   "name": "python3"
  },
  "language_info": {
   "codemirror_mode": {
    "name": "ipython",
    "version": 3
   },
   "file_extension": ".py",
   "mimetype": "text/x-python",
   "name": "python",
   "nbconvert_exporter": "python",
   "pygments_lexer": "ipython3",
   "version": "3.7.4"
  }
 },
 "nbformat": 4,
 "nbformat_minor": 4
}
